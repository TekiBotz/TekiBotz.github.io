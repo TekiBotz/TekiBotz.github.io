{
 "cells": [
  {
   "cell_type": "markdown",
   "id": "fbb9e6c2-f4af-46b0-9a2a-ecfd697939aa",
   "metadata": {},
   "source": [
    "# Jarrale Butts"
   ]
  },
  {
   "cell_type": "markdown",
   "id": "6e756b7c-e5c4-4031-9db2-8648869bba6a",
   "metadata": {
    "tags": []
   },
   "source": [
    "## AnimalRescue Data Mining Enhancement"
   ]
  },
  {
   "cell_type": "code",
   "execution_count": 1,
   "id": "84c81683-8556-4d50-bf23-7a26a8daed0a",
   "metadata": {
    "tags": []
   },
   "outputs": [
    {
     "name": "stdout",
     "output_type": "stream",
     "text": [
      "\n",
      "Confusion Matrix:\n",
      "[[  0   0   0   0   1   0   0   0   0   0]\n",
      " [  0 685   1   0  15   0   0 163   1 185]\n",
      " [  0   0   0   0   3   0   0   4   0  17]\n",
      " [  0   0   0   1   5   0   0   0   0   1]\n",
      " [  0  11   4   5 114   0   0  29   1  45]\n",
      " [  0   0   0   0   0   0   0   1   0   0]\n",
      " [  0   0   0   0   3   0   0   0   0   0]\n",
      " [  0 171   1   1  18   0   0 157   0 102]\n",
      " [  0   2   0   0   0   0   0   2   0   0]\n",
      " [  0 200   7   0  45   2   0 105   1 391]]\n",
      "\n",
      "Classification Report:\n",
      "                 precision    recall  f1-score   support\n",
      "\n",
      "                      0.00      0.00      0.00         1\n",
      "       Adoption       0.64      0.65      0.65      1050\n",
      "           Died       0.00      0.00      0.00        24\n",
      "       Disposal       0.14      0.14      0.14         7\n",
      "     Euthanasia       0.56      0.55      0.55       209\n",
      "        Missing       0.00      0.00      0.00         1\n",
      "       Relocate       0.00      0.00      0.00         3\n",
      "Return to Owner       0.34      0.35      0.34       450\n",
      "      Rto-Adopt       0.00      0.00      0.00         4\n",
      "       Transfer       0.53      0.52      0.52       751\n",
      "\n",
      "       accuracy                           0.54      2500\n",
      "      macro avg       0.22      0.22      0.22      2500\n",
      "   weighted avg       0.54      0.54      0.54      2500\n",
      "\n"
     ]
    },
    {
     "name": "stderr",
     "output_type": "stream",
     "text": [
      "/Users/jbutts/anaconda3/lib/python3.11/site-packages/sklearn/metrics/_classification.py:1509: UndefinedMetricWarning: Precision is ill-defined and being set to 0.0 in labels with no predicted samples. Use `zero_division` parameter to control this behavior.\n",
      "  _warn_prf(average, modifier, f\"{metric.capitalize()} is\", len(result))\n",
      "/Users/jbutts/anaconda3/lib/python3.11/site-packages/sklearn/metrics/_classification.py:1509: UndefinedMetricWarning: Precision is ill-defined and being set to 0.0 in labels with no predicted samples. Use `zero_division` parameter to control this behavior.\n",
      "  _warn_prf(average, modifier, f\"{metric.capitalize()} is\", len(result))\n",
      "/Users/jbutts/anaconda3/lib/python3.11/site-packages/sklearn/metrics/_classification.py:1509: UndefinedMetricWarning: Precision is ill-defined and being set to 0.0 in labels with no predicted samples. Use `zero_division` parameter to control this behavior.\n",
      "  _warn_prf(average, modifier, f\"{metric.capitalize()} is\", len(result))\n"
     ]
    }
   ],
   "source": [
    "import pandas as pd\n",
    "import pymongo\n",
    "import matplotlib.pyplot as plt\n",
    "from sklearn.preprocessing import LabelEncoder\n",
    "from sklearn.model_selection import train_test_split\n",
    "from sklearn.tree import DecisionTreeClassifier\n",
    "from sklearn.metrics import classification_report, confusion_matrix\n",
    "\n",
    "# Connect to MongoDB Atlas\n",
    "client = pymongo.MongoClient(\"mongobd_connection_string\")\n",
    "db = client['AAC']\n",
    "collection = db['animals']\n",
    "\n",
    "# Load data from MongoDB into DataFrame\n",
    "data = list(collection.find())\n",
    "df = pd.DataFrame(data)  # Convert to DataFrame\n",
    "\n",
    "# Data preprocessing\n",
    "# Drop rows with missing values in the 'outcome_type' column\n",
    "df = df.dropna(subset=['outcome_type'])\n",
    "\n",
    "# Convert categorical data to numeric\n",
    "label_enc = LabelEncoder()\n",
    "df['breed_encoded'] = label_enc.fit_transform(df['breed'])\n",
    "df['sex_upon_outcome_encoded'] = label_enc.fit_transform(df['sex_upon_outcome'])\n",
    "df['outcome_type_encoded'] = label_enc.fit_transform(df['outcome_type'])\n",
    "\n",
    "# Convert date from type object to type datetime64 -> then to a numeric feature\n",
    "df['date_of_birth'] = pd.to_datetime(df['date_of_birth'])\n",
    "df['days_since_birth'] = (pd.Timestamp.now() - df['date_of_birth']).dt.days\n",
    "\n",
    "# Features and target variable\n",
    "y = df.outcome_type_encoded\n",
    "features_columns = ['breed_encoded', 'days_since_birth', 'sex_upon_outcome_encoded']\n",
    "X = df[features_columns]\n",
    "\n",
    "\n",
    "# Train a Decision Tree Classifier\n",
    "\n",
    "# Initial Clasifer model\n",
    "classifier = DecisionTreeClassifier(random_state=0)\n",
    "\n",
    "# Split data into training and testing sets\n",
    "X_train, X_test, y_train, y_test = train_test_split(X, y, test_size=0.25, random_state=1)\n",
    "\n",
    "# Fit classifier with the training data\n",
    "classifier.fit(X_train, y_train)\n",
    "\n",
    "# Make predictions\n",
    "y_pred = classifier.predict(X_test)\n",
    "\n",
    "# Evaluate the classifier\n",
    "print(\"\\nConfusion Matrix:\")\n",
    "print(confusion_matrix(y_test, y_pred))\n",
    "print(\"\\nClassification Report:\")\n",
    "print(classification_report(y_test, y_pred, target_names=label_enc.classes_))"
   ]
  },
  {
   "cell_type": "markdown",
   "id": "7c7fc6f5-d90a-4b65-82b1-390ae3dfa621",
   "metadata": {},
   "source": [
    "A connection is made to MongoDB Atlas fetching data related to animal outcomes from the ‘AAC’ database and the ‘animals’ collection. After establishing a connection using the pymongo library, all documents are retrieved from the ‘animals’ collection and converts them into a Pandas DataFrame for further analysis. The data is then processed by dropping rows with missing values in the ‘outcome_type’ column, encoding categorical variables (such as ‘breed’ and ‘sex_upon_outcome’) into numerical representations using LabelEncoder, and calculating the ‘days_since_birth’ based on the ‘date_of_birth’ field. This structured approach prepares the data for training a Decision Tree Classifier, where features are defined as the encoded breed, days since birth, and sex upon outcome, with the target variable being the encoded outcome type.\n",
    "\n",
    "The output of the model evaluation consists of a confusion matrix and a classification report, both of which provide insights into the classifier’s performance. The confusion matrix reveals that the model struggles significantly with certain classes, particularly with classes like ‘Died’ and ‘Rto-Adopt’, where it has not made any correct predictions. On the other hand, the ‘Adoption’ class has a relatively high number of true positives, but there is a notable level of misclassification across various classes. The classification report further details the model’s performance metrics, including precision, recall, and F1-scores. The overall accuracy of the model stands at 54%, indicating that there is considerable room for improvement, especially in handling underrepresented classes. The low precision and recall for several classes suggest that the model may benefit from adjustments in the data preprocessing steps, such as addressing class imbalances or exploring alternative modeling techniques."
   ]
  }
 ],
 "metadata": {
  "kernelspec": {
   "display_name": "Python 3 (ipykernel)",
   "language": "python",
   "name": "python3"
  },
  "language_info": {
   "codemirror_mode": {
    "name": "ipython",
    "version": 3
   },
   "file_extension": ".py",
   "mimetype": "text/x-python",
   "name": "python",
   "nbconvert_exporter": "python",
   "pygments_lexer": "ipython3",
   "version": "3.11.8"
  }
 },
 "nbformat": 4,
 "nbformat_minor": 5
}
